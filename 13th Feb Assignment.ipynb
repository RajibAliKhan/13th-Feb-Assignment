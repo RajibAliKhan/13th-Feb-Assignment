{
 "cells": [
  {
   "cell_type": "code",
   "execution_count": null,
   "id": "2313bd2e-f733-4864-b55f-6c8a4d845cd1",
   "metadata": {},
   "outputs": [],
   "source": [
    "# Answer of Q1 :"
   ]
  },
  {
   "cell_type": "code",
   "execution_count": null,
   "id": "dffc4b61-cf71-4172-9cdd-77d0b8bdab24",
   "metadata": {},
   "outputs": [],
   "source": [
    "Exception class is a super class for handling a exception.\n",
    "So, always using Exception class is a bad practice in coding field.\n",
    "For that reason, creating a custom exception or a specific exception is a good practice.\n",
    "But, it is not enough to encounter every error in a huge data by using custom exception.\n",
    "For this reason, Exception class is used."
   ]
  },
  {
   "cell_type": "code",
   "execution_count": null,
   "id": "9674240f-dbce-4f9e-9db4-b390a9c7c76e",
   "metadata": {},
   "outputs": [],
   "source": [
    "# Answer of Q2 :"
   ]
  },
  {
   "cell_type": "code",
   "execution_count": null,
   "id": "581171c0-c9d8-4cea-9d91-a13506426668",
   "metadata": {},
   "outputs": [],
   "source": [
    "# Answer of Q3 :"
   ]
  },
  {
   "cell_type": "code",
   "execution_count": null,
   "id": "ff5165d5-5f73-4512-b06c-2816494def16",
   "metadata": {},
   "outputs": [],
   "source": [
    "The ArithmeticError class is associated with arithmetic.\n",
    "ArithmeticError are defined mainly in three parts -\n",
    "    1. ZeroDivisionError\n",
    "    2. OverflowError\n",
    "    3. FloatingPointError"
   ]
  },
  {
   "cell_type": "code",
   "execution_count": null,
   "id": "630353db-8633-45dd-aa0b-bf8145f9d8c2",
   "metadata": {},
   "outputs": [],
   "source": [
    "1. ZeroDivisionError :\n",
    "    If I divide any number by zero, it will throw ZeroDivisionError.\n",
    "    I should handle the error by using try and except block.    "
   ]
  },
  {
   "cell_type": "code",
   "execution_count": 21,
   "id": "a302ee23-11b5-44c3-9914-a628d5c9a474",
   "metadata": {},
   "outputs": [
    {
     "name": "stdin",
     "output_type": "stream",
     "text": [
      "Enter your first number 5\n",
      "Enter your second number 0\n"
     ]
    }
   ],
   "source": [
    "# Example :\n",
    "\n",
    "import logging\n",
    "logging.basicConfig(filename = 'test1.log', level = logging.INFO)\n",
    "try :\n",
    "    a = int(input('Enter your first number'))\n",
    "    b = int(input('Enter your second number'))\n",
    "    c = a/b\n",
    "except ZeroDivisionError as e :\n",
    "    logging.error('It is invalid {}'.format(e))\n",
    "logging.shutdown()"
   ]
  },
  {
   "cell_type": "code",
   "execution_count": null,
   "id": "5e463001-4e45-4685-82f7-6532c1bd013b",
   "metadata": {},
   "outputs": [],
   "source": [
    "2. OverflowError :\n",
    "    This error occurs when an arithmetic operation exceeds the maximum representable value for a numeric type."
   ]
  },
  {
   "cell_type": "code",
   "execution_count": 22,
   "id": "602f0a16-689d-42e9-ac45-8c3256b7ebfe",
   "metadata": {},
   "outputs": [],
   "source": [
    "# Example :\n",
    "import logging\n",
    "logging.basicConfig(filename = 'test2.log', level = logging.INFO)\n",
    "a = 5.0\n",
    "try :\n",
    "    for i in range(1,1000) :\n",
    "        a = a**i\n",
    "except OverflowError as e :\n",
    "    logging.error('This is overflow {}'.format(e))\n",
    "logging.shutdown()"
   ]
  },
  {
   "cell_type": "code",
   "execution_count": null,
   "id": "fbdad685-5e17-497a-b041-b3d1699bb2ee",
   "metadata": {},
   "outputs": [],
   "source": [
    "# Answer of Q4 :"
   ]
  },
  {
   "cell_type": "code",
   "execution_count": null,
   "id": "b1435d23-9768-4a78-941f-52f7d21346b0",
   "metadata": {},
   "outputs": [],
   "source": [
    "The LookupError class is a base class for exceptions that occur when a lookup or indexing or key operation fails. \n",
    "It is used when an item or value cannot be found in a collection or when an invalid index is used.\n",
    "It is mainly two types - \n",
    "     1. KeyError\n",
    "     2. IndexError"
   ]
  },
  {
   "cell_type": "code",
   "execution_count": null,
   "id": "40c39238-b73a-4063-899b-128bb0fb9c9b",
   "metadata": {},
   "outputs": [],
   "source": [
    "1. KeyError :\n",
    "    KeyError is raised when in a dictionary key is not found."
   ]
  },
  {
   "cell_type": "code",
   "execution_count": 23,
   "id": "ab8a3247-f439-4974-8abc-3b32efcb5129",
   "metadata": {},
   "outputs": [],
   "source": [
    "# Example :\n",
    "\n",
    "logging.basicConfig(filename = 'test3.log', level = logging.INFO)\n",
    "d = {'name' : 'rajib', 'place' : 'contai'}\n",
    "try :\n",
    "    print(d['age'])\n",
    "except KeyError as e :\n",
    "    logging.error('This is mistake {}'.format(e))"
   ]
  },
  {
   "cell_type": "code",
   "execution_count": null,
   "id": "c508a211-f9d6-4799-9610-40624125b5ca",
   "metadata": {},
   "outputs": [],
   "source": [
    "2. IndexError :\n",
    "    IndexError is raised when invalid index is used to access the elements."
   ]
  },
  {
   "cell_type": "code",
   "execution_count": 24,
   "id": "502f2235-ee0f-476f-a080-c9735e71a4bf",
   "metadata": {},
   "outputs": [],
   "source": [
    "# Example :\n",
    "\n",
    "logging.basicConfig(filename = 'test4.log', level = logging.INFO)\n",
    "a = [1,2,3,4]\n",
    "try :\n",
    "    print(a[20])\n",
    "except IndexError as e :\n",
    "    logging.error('This is a mistake in indexing {}'.format(e))"
   ]
  },
  {
   "cell_type": "code",
   "execution_count": null,
   "id": "f6bf1700-d6e4-45f2-95a7-1db1c9acdda9",
   "metadata": {},
   "outputs": [],
   "source": [
    "# Answer of Q5 :"
   ]
  },
  {
   "cell_type": "code",
   "execution_count": null,
   "id": "3d8fe912-26af-47d4-ad65-836f386a4417",
   "metadata": {},
   "outputs": [],
   "source": [
    "ImportError :\n",
    "    ImportError module raised when an import statement failed to find or does not exist."
   ]
  },
  {
   "cell_type": "code",
   "execution_count": 25,
   "id": "aa5e1ba1-a868-4ca1-b763-58a63bb5f7c1",
   "metadata": {},
   "outputs": [],
   "source": [
    "# Example :\n",
    "\n",
    "logging.basicConfig(filename = 'test5.log', level = logging.INFO)\n",
    "try :\n",
    "    import rajib\n",
    "except ImportError as e :\n",
    "    logging.error('Please noted that {}'.format(e))"
   ]
  },
  {
   "cell_type": "code",
   "execution_count": null,
   "id": "c3b9e3f3-20ac-4244-82e6-89302588b3ae",
   "metadata": {},
   "outputs": [],
   "source": [
    "ModuleNotFoundError :\n",
    "    ModuleNotFoundError is a sub-class of ImportError.\n",
    "    It is raised when an import statement fails to find or load a module. \n",
    "    It specifically indicates that the module being imported could not be found."
   ]
  },
  {
   "cell_type": "code",
   "execution_count": 26,
   "id": "1da49278-b66a-43da-b8a5-814c216d18f7",
   "metadata": {},
   "outputs": [],
   "source": [
    "# Example :\n",
    "\n",
    "logging.basicConfig(filename = 'test5.log', level = logging.INFO)\n",
    "try :\n",
    "    import rajib_module \n",
    "except ModuleNotFoundError as e :\n",
    "    logging.error('It is noted that {}'.format(e))   "
   ]
  },
  {
   "cell_type": "code",
   "execution_count": null,
   "id": "f5bbea5d-00e5-4297-8f8b-02212e5d3364",
   "metadata": {},
   "outputs": [],
   "source": [
    "# Answer of Q6 :"
   ]
  },
  {
   "cell_type": "code",
   "execution_count": null,
   "id": "d3abdfda-08cd-4af7-aadb-d5f5e0e6770b",
   "metadata": {},
   "outputs": [],
   "source": [
    "1. Using super class 'Exception' is a bad practice.\n",
    "2. Always use specific exception types.\n",
    "3. Always use proper message for exception.\n",
    "4. Always avoid to write a multiple exception handling.\n",
    "5. Always try to log error.\n",
    "6. Documents all the error by creating a file.\n",
    "7. Cleanup all the resource by using finally block."
   ]
  }
 ],
 "metadata": {
  "kernelspec": {
   "display_name": "Python 3 (ipykernel)",
   "language": "python",
   "name": "python3"
  },
  "language_info": {
   "codemirror_mode": {
    "name": "ipython",
    "version": 3
   },
   "file_extension": ".py",
   "mimetype": "text/x-python",
   "name": "python",
   "nbconvert_exporter": "python",
   "pygments_lexer": "ipython3",
   "version": "3.10.8"
  }
 },
 "nbformat": 4,
 "nbformat_minor": 5
}
